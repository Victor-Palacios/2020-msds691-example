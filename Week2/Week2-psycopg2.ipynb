{
 "cells": [
  {
   "cell_type": "code",
   "execution_count": 1,
   "metadata": {
    "ExecuteTime": {
     "end_time": "2020-10-17T20:01:12.207381Z",
     "start_time": "2020-10-17T20:01:12.190039Z"
    }
   },
   "outputs": [],
   "source": [
    "import psycopg2"
   ]
  },
  {
   "cell_type": "markdown",
   "metadata": {},
   "source": [
    "##### Variables"
   ]
  },
  {
   "cell_type": "code",
   "execution_count": 36,
   "metadata": {
    "ExecuteTime": {
     "end_time": "2020-10-17T20:09:43.892473Z",
     "start_time": "2020-10-17T20:09:43.890151Z"
    }
   },
   "outputs": [],
   "source": [
    "host = \"127.0.0.1\"\n",
    "port = \"5432\"\n",
    "database = \"msds691\"\n",
    "user = \"postgres\""
   ]
  },
  {
   "cell_type": "markdown",
   "metadata": {},
   "source": [
    "## Connect to a database\n",
    "if you have a password, add password = \"password\""
   ]
  },
  {
   "cell_type": "code",
   "execution_count": 37,
   "metadata": {
    "ExecuteTime": {
     "end_time": "2020-10-17T20:09:44.290295Z",
     "start_time": "2020-10-17T20:09:44.240741Z"
    }
   },
   "outputs": [],
   "source": [
    "conn = psycopg2.connect(host = host, port = port, database=database, user = user)"
   ]
  },
  {
   "cell_type": "markdown",
   "metadata": {
    "ExecuteTime": {
     "end_time": "2020-10-17T19:41:29.419780Z",
     "start_time": "2020-10-17T19:41:29.413016Z"
    }
   },
   "source": [
    "## Open a cursor to perform database operations"
   ]
  },
  {
   "cell_type": "code",
   "execution_count": 43,
   "metadata": {
    "ExecuteTime": {
     "end_time": "2020-10-17T20:30:34.834309Z",
     "start_time": "2020-10-17T20:30:34.831791Z"
    }
   },
   "outputs": [],
   "source": [
    "cur = conn.cursor()"
   ]
  },
  {
   "cell_type": "markdown",
   "metadata": {},
   "source": [
    "## Query the database and obtain data as Python objects"
   ]
  },
  {
   "cell_type": "code",
   "execution_count": 44,
   "metadata": {
    "ExecuteTime": {
     "end_time": "2020-10-17T20:30:35.654296Z",
     "start_time": "2020-10-17T20:30:35.651931Z"
    }
   },
   "outputs": [],
   "source": [
    "cur.execute(\"SELECT * FROM works_in\")"
   ]
  },
  {
   "cell_type": "code",
   "execution_count": 40,
   "metadata": {
    "ExecuteTime": {
     "end_time": "2020-10-17T20:09:45.263459Z",
     "start_time": "2020-10-17T20:09:45.260257Z"
    }
   },
   "outputs": [
    {
     "data": {
      "text/plain": [
       "[(2, 2, datetime.date(2020, 10, 16)), (1, 1, datetime.date(2020, 10, 16))]"
      ]
     },
     "execution_count": 40,
     "metadata": {},
     "output_type": "execute_result"
    }
   ],
   "source": [
    "cur.fetchall()"
   ]
  },
  {
   "cell_type": "code",
   "execution_count": 41,
   "metadata": {
    "ExecuteTime": {
     "end_time": "2020-10-17T20:09:46.432996Z",
     "start_time": "2020-10-17T20:09:46.429755Z"
    }
   },
   "outputs": [
    {
     "data": {
      "text/plain": [
       "[]"
      ]
     },
     "execution_count": 41,
     "metadata": {},
     "output_type": "execute_result"
    }
   ],
   "source": [
    "cur.fetchall()"
   ]
  },
  {
   "cell_type": "code",
   "execution_count": 42,
   "metadata": {
    "ExecuteTime": {
     "end_time": "2020-10-17T20:09:47.796593Z",
     "start_time": "2020-10-17T20:09:47.793078Z"
    }
   },
   "outputs": [
    {
     "name": "stdout",
     "output_type": "stream",
     "text": [
      "An employee whose id is 2 works at department2, since 2020-10-16\n",
      "An employee whose id is 1 works at department1, since 2020-10-16\n"
     ]
    }
   ],
   "source": [
    "cur.execute(\"SELECT * FROM works_in\")\n",
    "data = cur.fetchall()\n",
    "for item in data:\n",
    "    print(\"An employee whose id is \" + str(item[1]) + \" works at department\" + str(item[0])+ \", since \" + str(item[2]))"
   ]
  },
  {
   "cell_type": "markdown",
   "metadata": {},
   "source": [
    "## If your queries include updates such as insert, delete, or update, you need to commit (no autocommit) or  to cancel,  rollback"
   ]
  },
  {
   "cell_type": "markdown",
   "metadata": {},
   "source": [
    "### Increment department by 1."
   ]
  },
  {
   "cell_type": "code",
   "execution_count": 32,
   "metadata": {
    "ExecuteTime": {
     "end_time": "2020-10-17T20:09:25.342184Z",
     "start_time": "2020-10-17T20:09:25.338703Z"
    }
   },
   "outputs": [],
   "source": [
    "cur.execute(\"SELECT did FROM departments ORDER BY did DESC\")\n",
    "data = cur.fetchall()\n",
    "did_list = []\n",
    "for item in data:\n",
    "    did_list.append(item[0])\n",
    "\n",
    "for did in did_list:\n",
    "    cur.execute(\"UPDATE departments SET did = did + 1 WHERE did =\" + str(did))\n",
    "    "
   ]
  },
  {
   "cell_type": "code",
   "execution_count": 33,
   "metadata": {
    "ExecuteTime": {
     "end_time": "2020-10-17T20:09:26.268271Z",
     "start_time": "2020-10-17T20:09:26.264969Z"
    }
   },
   "outputs": [
    {
     "name": "stdout",
     "output_type": "stream",
     "text": [
      "An employee whose id is 2 works at department3, since 2020-10-16\n",
      "An employee whose id is 1 works at department2, since 2020-10-16\n"
     ]
    }
   ],
   "source": [
    "cur.execute(\"SELECT * FROM works_in\")\n",
    "data = cur.fetchall()\n",
    "for item in data:\n",
    "    print(\"An employee whose id is \" + str(item[1]) + \" works at department\" + str(item[0])+ \", since \" + str(item[2]))"
   ]
  },
  {
   "cell_type": "code",
   "execution_count": 30,
   "metadata": {
    "ExecuteTime": {
     "end_time": "2020-10-17T20:09:04.459721Z",
     "start_time": "2020-10-17T20:09:04.457117Z"
    }
   },
   "outputs": [],
   "source": [
    "conn.rollback()"
   ]
  },
  {
   "cell_type": "markdown",
   "metadata": {},
   "source": [
    "## Close communication with the database"
   ]
  },
  {
   "cell_type": "code",
   "execution_count": 34,
   "metadata": {
    "ExecuteTime": {
     "end_time": "2020-10-17T20:09:41.061096Z",
     "start_time": "2020-10-17T20:09:41.058613Z"
    }
   },
   "outputs": [],
   "source": [
    "cur.close()\n",
    "conn.close()"
   ]
  },
  {
   "cell_type": "code",
   "execution_count": 35,
   "metadata": {
    "ExecuteTime": {
     "end_time": "2020-10-17T20:09:41.726436Z",
     "start_time": "2020-10-17T20:09:41.723097Z"
    }
   },
   "outputs": [
    {
     "data": {
      "text/plain": [
       "<connection object at 0x7f9b20693430; dsn: 'host=127.0.0.1 port=5432 user=postgres dbname=msds691', closed: 1>"
      ]
     },
     "execution_count": 35,
     "metadata": {},
     "output_type": "execute_result"
    }
   ],
   "source": [
    "conn"
   ]
  },
  {
   "cell_type": "code",
   "execution_count": null,
   "metadata": {},
   "outputs": [],
   "source": []
  }
 ],
 "metadata": {
  "kernelspec": {
   "display_name": "Python 3",
   "language": "python",
   "name": "python3"
  },
  "language_info": {
   "codemirror_mode": {
    "name": "ipython",
    "version": 3
   },
   "file_extension": ".py",
   "mimetype": "text/x-python",
   "name": "python",
   "nbconvert_exporter": "python",
   "pygments_lexer": "ipython3",
   "version": "3.8.5"
  }
 },
 "nbformat": 4,
 "nbformat_minor": 4
}
